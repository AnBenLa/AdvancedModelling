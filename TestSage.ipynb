{
 "cells": [
  {
   "cell_type": "code",
   "execution_count": 75,
   "metadata": {},
   "outputs": [],
   "source": [
    "from sage.symbolic.integration.integral import indefinite_integral"
   ]
  },
  {
   "cell_type": "markdown",
   "metadata": {},
   "source": [
    "### Excercise 2"
   ]
  },
  {
   "cell_type": "markdown",
   "metadata": {},
   "source": [
    "#### a.)"
   ]
  },
  {
   "cell_type": "markdown",
   "metadata": {},
   "source": [
    "$$y^{''} - 7 \\cdot y^{'} + 6\\cdot y = 0$$"
   ]
  },
  {
   "cell_type": "markdown",
   "metadata": {},
   "source": [
    "$$\\implies \\lambda^2 - 7\\cdot \\lambda + 6 = 0$$"
   ]
  },
  {
   "cell_type": "code",
   "execution_count": 1,
   "metadata": {},
   "outputs": [
    {
     "data": {
      "text/html": [
       "<html><script type=\"math/tex; mode=display\">\\newcommand{\\Bold}[1]{\\mathbf{#1}}x^{2} - 7 \\, x + 6</script></html>"
      ],
      "text/latex": [
       "\\begin{math}\n",
       "\\newcommand{\\Bold}[1]{\\mathbf{#1}}x^{2} - 7 \\, x + 6\n",
       "\\end{math}"
      ],
      "text/plain": [
       "x^2 - 7*x + 6"
      ]
     },
     "metadata": {},
     "output_type": "display_data"
    },
    {
     "data": {
      "text/html": [
       "<html><script type=\"math/tex; mode=display\">\\newcommand{\\Bold}[1]{\\mathbf{#1}}\\left[x = 6, x = 1\\right]</script></html>"
      ],
      "text/latex": [
       "\\begin{math}\n",
       "\\newcommand{\\Bold}[1]{\\mathbf{#1}}\\left[x = 6, x = 1\\right]\n",
       "\\end{math}"
      ],
      "text/plain": [
       "[x == 6, x == 1]"
      ]
     },
     "metadata": {},
     "output_type": "display_data"
    }
   ],
   "source": [
    "x = var('x');\n",
    "f = x^2 - 7*x + 6;\n",
    "show(f);\n",
    "show(solve(f == 0, x))"
   ]
  },
  {
   "cell_type": "markdown",
   "metadata": {},
   "source": [
    "$$\\implies y(x) = C_1 \\cdot e^{6\\cdot x} + C_2 \\cdot e^{1\\cdot x}$$"
   ]
  },
  {
   "cell_type": "markdown",
   "metadata": {},
   "source": [
    "#### f.)"
   ]
  },
  {
   "cell_type": "markdown",
   "metadata": {},
   "source": [
    "$$y^{'''} - 2 \\cdot y^{''} + y^{'} = 0$$"
   ]
  },
  {
   "cell_type": "markdown",
   "metadata": {},
   "source": [
    "$$\\implies \\lambda^3 - 2\\cdot \\lambda^2 + \\lambda = 0$$"
   ]
  },
  {
   "cell_type": "code",
   "execution_count": 2,
   "metadata": {},
   "outputs": [
    {
     "data": {
      "text/html": [
       "<html><script type=\"math/tex; mode=display\">\\newcommand{\\Bold}[1]{\\mathbf{#1}}x^{3} - 2 \\, x^{2} + x</script></html>"
      ],
      "text/latex": [
       "\\begin{math}\n",
       "\\newcommand{\\Bold}[1]{\\mathbf{#1}}x^{3} - 2 \\, x^{2} + x\n",
       "\\end{math}"
      ],
      "text/plain": [
       "x^3 - 2*x^2 + x"
      ]
     },
     "metadata": {},
     "output_type": "display_data"
    },
    {
     "data": {
      "text/html": [
       "<html><script type=\"math/tex; mode=display\">\\newcommand{\\Bold}[1]{\\mathbf{#1}}\\left[x = 1, x = 0\\right]</script></html>"
      ],
      "text/latex": [
       "\\begin{math}\n",
       "\\newcommand{\\Bold}[1]{\\mathbf{#1}}\\left[x = 1, x = 0\\right]\n",
       "\\end{math}"
      ],
      "text/plain": [
       "[x == 1, x == 0]"
      ]
     },
     "metadata": {},
     "output_type": "display_data"
    }
   ],
   "source": [
    "f = x^3 - 2*x^2 + x;\n",
    "show(f);\n",
    "show(solve(f == 0, x))"
   ]
  },
  {
   "cell_type": "markdown",
   "metadata": {},
   "source": [
    "$$\\implies y(x) = C_1 + (C_2 + C_3 \\cdot x) \\cdot e^{1\\cdot x}$$"
   ]
  },
  {
   "cell_type": "markdown",
   "metadata": {},
   "source": [
    "#### h.)"
   ]
  },
  {
   "cell_type": "markdown",
   "metadata": {},
   "source": [
    "$$y^{''} - 4 \\cdot y^{'} + 13 \\cdot y = 0$$"
   ]
  },
  {
   "cell_type": "markdown",
   "metadata": {},
   "source": [
    "$$\\implies \\lambda^2 - 4\\cdot \\lambda + 13 = 0$$"
   ]
  },
  {
   "cell_type": "code",
   "execution_count": 3,
   "metadata": {},
   "outputs": [
    {
     "data": {
      "text/html": [
       "<html><script type=\"math/tex; mode=display\">\\newcommand{\\Bold}[1]{\\mathbf{#1}}x^{2} - 4 \\, x + 13</script></html>"
      ],
      "text/latex": [
       "\\begin{math}\n",
       "\\newcommand{\\Bold}[1]{\\mathbf{#1}}x^{2} - 4 \\, x + 13\n",
       "\\end{math}"
      ],
      "text/plain": [
       "x^2 - 4*x + 13"
      ]
     },
     "metadata": {},
     "output_type": "display_data"
    },
    {
     "data": {
      "text/html": [
       "<html><script type=\"math/tex; mode=display\">\\newcommand{\\Bold}[1]{\\mathbf{#1}}\\left[x = \\left(-3 i + 2\\right), x = \\left(3 i + 2\\right)\\right]</script></html>"
      ],
      "text/latex": [
       "\\begin{math}\n",
       "\\newcommand{\\Bold}[1]{\\mathbf{#1}}\\left[x = \\left(-3 i + 2\\right), x = \\left(3 i + 2\\right)\\right]\n",
       "\\end{math}"
      ],
      "text/plain": [
       "[x == (-3*I + 2), x == (3*I + 2)]"
      ]
     },
     "metadata": {},
     "output_type": "display_data"
    }
   ],
   "source": [
    "f = x^2 - 4*x + 13;\n",
    "show(f);\n",
    "show(solve(f == 0, x))"
   ]
  },
  {
   "cell_type": "markdown",
   "metadata": {},
   "source": [
    "$$\\implies y(x) = e^{2\\cdot x}\\cdot(C_1 \\cdot \\cos{(3\\cdot x)} + C_2 \\cdot \\sin{(3 \\cdot x)})$$"
   ]
  },
  {
   "cell_type": "markdown",
   "metadata": {},
   "source": [
    "### Excercise 3"
   ]
  },
  {
   "cell_type": "markdown",
   "metadata": {},
   "source": [
    "#### a.)"
   ]
  },
  {
   "cell_type": "markdown",
   "metadata": {},
   "source": [
    "$$y^{''} + y = 4 \\cdot x \\cdot \\cos{x}\\\\\n",
    "\\implies \\lambda^2 + 1 = 0\n",
    "\\implies \\lambda_{1,2} = a \\pm b\\cdot i = \\pm i\\\\\n",
    "\\implies y_c(x) = C_1 \\cdot \\cos{x} + C_2 \\cdot \\sin{x}$$"
   ]
  },
  {
   "cell_type": "markdown",
   "metadata": {},
   "source": [
    "$$a = 0, ~~ b = 1, ~~ n = 1, ~~ m = 0\\\\\n",
    "\\implies y_p = x \\cdot ((A\\cdot x + B) \\cdot \\cos{(x)} + (C\\cdot x + D)\\cdot \\sin{(x)})$$"
   ]
  },
  {
   "cell_type": "code",
   "execution_count": 4,
   "metadata": {},
   "outputs": [
    {
     "name": "stdout",
     "output_type": "stream",
     "text": [
      "g(x):\n"
     ]
    },
    {
     "data": {
      "text/html": [
       "<html><script type=\"math/tex; mode=display\">\\newcommand{\\Bold}[1]{\\mathbf{#1}}{\\left(A x^{2} + B x\\right)} \\cos\\left(x\\right) + {\\left(C x^{2} + D x\\right)} \\sin\\left(x\\right)</script></html>"
      ],
      "text/latex": [
       "\\begin{math}\n",
       "\\newcommand{\\Bold}[1]{\\mathbf{#1}}{\\left(A x^{2} + B x\\right)} \\cos\\left(x\\right) + {\\left(C x^{2} + D x\\right)} \\sin\\left(x\\right)\n",
       "\\end{math}"
      ],
      "text/plain": [
       "(A*x^2 + B*x)*cos(x) + (C*x^2 + D*x)*sin(x)"
      ]
     },
     "metadata": {},
     "output_type": "display_data"
    },
    {
     "name": "stdout",
     "output_type": "stream",
     "text": [
      "\n",
      " g''(x):\n"
     ]
    },
    {
     "data": {
      "text/html": [
       "<html><script type=\"math/tex; mode=display\">\\newcommand{\\Bold}[1]{\\mathbf{#1}}-{\\left(A x^{2} + {\\left(B - 4 \\, C\\right)} x - 2 \\, A - 2 \\, D\\right)} \\cos\\left(x\\right) - {\\left(C x^{2} + {\\left(4 \\, A + D\\right)} x + 2 \\, B - 2 \\, C\\right)} \\sin\\left(x\\right)</script></html>"
      ],
      "text/latex": [
       "\\begin{math}\n",
       "\\newcommand{\\Bold}[1]{\\mathbf{#1}}-{\\left(A x^{2} + {\\left(B - 4 \\, C\\right)} x - 2 \\, A - 2 \\, D\\right)} \\cos\\left(x\\right) - {\\left(C x^{2} + {\\left(4 \\, A + D\\right)} x + 2 \\, B - 2 \\, C\\right)} \\sin\\left(x\\right)\n",
       "\\end{math}"
      ],
      "text/plain": [
       "-(A*x^2 + (B - 4*C)*x - 2*A - 2*D)*cos(x) - (C*x^2 + (4*A + D)*x + 2*B - 2*C)*sin(x)"
      ]
     },
     "metadata": {},
     "output_type": "display_data"
    },
    {
     "name": "stdout",
     "output_type": "stream",
     "text": [
      "\n",
      " g''(x) + g(x):\n"
     ]
    },
    {
     "data": {
      "text/html": [
       "<html><script type=\"math/tex; mode=display\">\\newcommand{\\Bold}[1]{\\mathbf{#1}}-{\\left(A x^{2} + {\\left(B - 4 \\, C\\right)} x - 2 \\, A - 2 \\, D\\right)} \\cos\\left(x\\right) + {\\left(A x^{2} + B x\\right)} \\cos\\left(x\\right) - {\\left(C x^{2} + {\\left(4 \\, A + D\\right)} x + 2 \\, B - 2 \\, C\\right)} \\sin\\left(x\\right) + {\\left(C x^{2} + D x\\right)} \\sin\\left(x\\right)</script></html>"
      ],
      "text/latex": [
       "\\begin{math}\n",
       "\\newcommand{\\Bold}[1]{\\mathbf{#1}}-{\\left(A x^{2} + {\\left(B - 4 \\, C\\right)} x - 2 \\, A - 2 \\, D\\right)} \\cos\\left(x\\right) + {\\left(A x^{2} + B x\\right)} \\cos\\left(x\\right) - {\\left(C x^{2} + {\\left(4 \\, A + D\\right)} x + 2 \\, B - 2 \\, C\\right)} \\sin\\left(x\\right) + {\\left(C x^{2} + D x\\right)} \\sin\\left(x\\right)\n",
       "\\end{math}"
      ],
      "text/plain": [
       "-(A*x^2 + (B - 4*C)*x - 2*A - 2*D)*cos(x) + (A*x^2 + B*x)*cos(x) - (C*x^2 + (4*A + D)*x + 2*B - 2*C)*sin(x) + (C*x^2 + D*x)*sin(x)"
      ]
     },
     "metadata": {},
     "output_type": "display_data"
    },
    {
     "name": "stdout",
     "output_type": "stream",
     "text": [
      "\n",
      " g''(x) + g(x) = 4 * x * cos(x):\n"
     ]
    },
    {
     "data": {
      "text/html": [
       "<html><script type=\"math/tex; mode=display\">\\newcommand{\\Bold}[1]{\\mathbf{#1}}2 \\, {\\left(2 \\, C x + A + D\\right)} \\cos\\left(x\\right) - 2 \\, {\\left(2 \\, A x + B - C\\right)} \\sin\\left(x\\right) = 4 \\, x \\cos\\left(x\\right)</script></html>"
      ],
      "text/latex": [
       "\\begin{math}\n",
       "\\newcommand{\\Bold}[1]{\\mathbf{#1}}2 \\, {\\left(2 \\, C x + A + D\\right)} \\cos\\left(x\\right) - 2 \\, {\\left(2 \\, A x + B - C\\right)} \\sin\\left(x\\right) = 4 \\, x \\cos\\left(x\\right)\n",
       "\\end{math}"
      ],
      "text/plain": [
       "2*(2*C*x + A + D)*cos(x) - 2*(2*A*x + B - C)*sin(x) == 4*x*cos(x)"
      ]
     },
     "metadata": {},
     "output_type": "display_data"
    },
    {
     "name": "stdout",
     "output_type": "stream",
     "text": [
      "\n",
      " Solution for A, B, C, D:\n"
     ]
    },
    {
     "data": {
      "text/html": [
       "<html><script type=\"math/tex; mode=display\">\\newcommand{\\Bold}[1]{\\mathbf{#1}}\\left[\\left[A = 0, B = 1, C = 1, D = 0\\right]\\right]</script></html>"
      ],
      "text/latex": [
       "\\begin{math}\n",
       "\\newcommand{\\Bold}[1]{\\mathbf{#1}}\\left[\\left[A = 0, B = 1, C = 1, D = 0\\right]\\right]\n",
       "\\end{math}"
      ],
      "text/plain": [
       "[[A == 0, B == 1, C == 1, D == 0]]"
      ]
     },
     "metadata": {},
     "output_type": "display_data"
    }
   ],
   "source": [
    "A = var('A'); B = var('B'); C = var('C'); D = var('D');\n",
    "g= x * ((A * x + B) * cos(x) + (C * x + D) * sin(x));\n",
    "g = g.full_simplify()\n",
    "print(\"g(x):\")\n",
    "show(g);\n",
    "g2 = diff(g, x, 2);\n",
    "g2 = g2.full_simplify();\n",
    "print(\"\\n g''(x):\")\n",
    "show(g2);\n",
    "p = g2 + g;\n",
    "print(\"\\n g''(x) + g(x):\")\n",
    "show(p);\n",
    "p = p.full_simplify();\n",
    "t = p == 4 * x * cos(x);\n",
    "print(\"\\n g''(x) + g(x) = 4 * x * cos(x):\")\n",
    "show(t);\n",
    "a = A + D == 0\n",
    "b = 4 * C == 4\n",
    "c = B - C == 0\n",
    "d = 2*A == 0\n",
    "print(\"\\n Solution for A, B, C, D:\")\n",
    "show(solve([a,b,c,d], A, B, C, D))"
   ]
  },
  {
   "cell_type": "markdown",
   "metadata": {},
   "source": [
    "$$\\implies \n",
    "\\begin{cases}\n",
    "    2A + 2D &= 0\\\\ \n",
    "    -2B + 2C &= 0\\\\\n",
    "    -4A &= 0\\\\\n",
    "    4 C &= 4\\\\\n",
    "\\end{cases}\n",
    "\\implies \n",
    "\\begin{cases}\n",
    "    A = 0\\\\\n",
    "    B = 1\\\\\n",
    "    C = 1\\\\\n",
    "    D = 0\n",
    "\\end{cases}$$"
   ]
  },
  {
   "cell_type": "markdown",
   "metadata": {},
   "source": [
    "#### c.)"
   ]
  },
  {
   "cell_type": "markdown",
   "metadata": {},
   "source": [
    "$$y^{'''} - 100 \\cdot y^{'} = 20\\cdot e^{10\\cdot x} + 100 \\cdot \\cos(10 \\cdot x)\\\\\n",
    "y^{'''} - 100 \\cdot y^{'} = 0\\\\\n",
    "\\implies \\lambda^3 - 100\\cdot \\lambda = 0\n",
    "\\implies \\lambda_{1} = 0, ~~ \\lambda_{2,3} = a + b\\cdot i = \\pm 10\\\\\n",
    "\\implies y_c(x) = C_1 + C_2\\cdot e^{-10\\cdot x} + C_3 \\cdot e^{10 \\cdot x}$$"
   ]
  },
  {
   "cell_type": "code",
   "execution_count": 5,
   "metadata": {},
   "outputs": [
    {
     "data": {
      "text/html": [
       "<html><script type=\"math/tex; mode=display\">\\newcommand{\\Bold}[1]{\\mathbf{#1}}\\left[x = \\left(-10\\right), x = 10, x = 0\\right]</script></html>"
      ],
      "text/latex": [
       "\\begin{math}\n",
       "\\newcommand{\\Bold}[1]{\\mathbf{#1}}\\left[x = \\left(-10\\right), x = 10, x = 0\\right]\n",
       "\\end{math}"
      ],
      "text/plain": [
       "[x == -10, x == 10, x == 0]"
      ]
     },
     "metadata": {},
     "output_type": "display_data"
    }
   ],
   "source": [
    "f = x^3 - 100*x\n",
    "show(solve(f == 0, x))"
   ]
  },
  {
   "cell_type": "markdown",
   "metadata": {},
   "source": [
    "$$ y^{'''} - 100 \\cdot y^{'} = 20 \\cdot e^{10\\cdot x} \\\\\n",
    "\\implies y_1 = x \\cdot A \\cdot e^{10\\cdot x} $$"
   ]
  },
  {
   "cell_type": "code",
   "execution_count": 17,
   "metadata": {},
   "outputs": [
    {
     "name": "stdout",
     "output_type": "stream",
     "text": [
      "y_1(x): \n"
     ]
    },
    {
     "data": {
      "text/html": [
       "<html><script type=\"math/tex; mode=display\">\\newcommand{\\Bold}[1]{\\mathbf{#1}}A x e^{\\left(10 \\, x\\right)}</script></html>"
      ],
      "text/latex": [
       "\\begin{math}\n",
       "\\newcommand{\\Bold}[1]{\\mathbf{#1}}A x e^{\\left(10 \\, x\\right)}\n",
       "\\end{math}"
      ],
      "text/plain": [
       "A*x*e^(10*x)"
      ]
     },
     "metadata": {},
     "output_type": "display_data"
    },
    {
     "name": "stdout",
     "output_type": "stream",
     "text": [
      "\n",
      " y_1'(x):\n"
     ]
    },
    {
     "data": {
      "text/html": [
       "<html><script type=\"math/tex; mode=display\">\\newcommand{\\Bold}[1]{\\mathbf{#1}}{\\left(10 \\, A x + A\\right)} e^{\\left(10 \\, x\\right)}</script></html>"
      ],
      "text/latex": [
       "\\begin{math}\n",
       "\\newcommand{\\Bold}[1]{\\mathbf{#1}}{\\left(10 \\, A x + A\\right)} e^{\\left(10 \\, x\\right)}\n",
       "\\end{math}"
      ],
      "text/plain": [
       "(10*A*x + A)*e^(10*x)"
      ]
     },
     "metadata": {},
     "output_type": "display_data"
    },
    {
     "name": "stdout",
     "output_type": "stream",
     "text": [
      "\n",
      " y_1'''(x):\n"
     ]
    },
    {
     "data": {
      "text/html": [
       "<html><script type=\"math/tex; mode=display\">\\newcommand{\\Bold}[1]{\\mathbf{#1}}100 \\, {\\left(10 \\, A x + 3 \\, A\\right)} e^{\\left(10 \\, x\\right)}</script></html>"
      ],
      "text/latex": [
       "\\begin{math}\n",
       "\\newcommand{\\Bold}[1]{\\mathbf{#1}}100 \\, {\\left(10 \\, A x + 3 \\, A\\right)} e^{\\left(10 \\, x\\right)}\n",
       "\\end{math}"
      ],
      "text/plain": [
       "100*(10*A*x + 3*A)*e^(10*x)"
      ]
     },
     "metadata": {},
     "output_type": "display_data"
    },
    {
     "name": "stdout",
     "output_type": "stream",
     "text": [
      "\n",
      " y_1'''(x) - 100* y_1'(x) = 20*e^(10 * x):\n"
     ]
    },
    {
     "data": {
      "text/html": [
       "<html><script type=\"math/tex; mode=display\">\\newcommand{\\Bold}[1]{\\mathbf{#1}}200 \\, A e^{\\left(10 \\, x\\right)} = 20 \\, e^{\\left(10 \\, x\\right)}</script></html>"
      ],
      "text/latex": [
       "\\begin{math}\n",
       "\\newcommand{\\Bold}[1]{\\mathbf{#1}}200 \\, A e^{\\left(10 \\, x\\right)} = 20 \\, e^{\\left(10 \\, x\\right)}\n",
       "\\end{math}"
      ],
      "text/plain": [
       "200*A*e^(10*x) == 20*e^(10*x)"
      ]
     },
     "metadata": {},
     "output_type": "display_data"
    },
    {
     "data": {
      "text/html": [
       "<html><script type=\"math/tex; mode=display\">\\newcommand{\\Bold}[1]{\\mathbf{#1}}\\left[A = \\left(\\frac{1}{10}\\right)\\right]</script></html>"
      ],
      "text/latex": [
       "\\begin{math}\n",
       "\\newcommand{\\Bold}[1]{\\mathbf{#1}}\\left[A = \\left(\\frac{1}{10}\\right)\\right]\n",
       "\\end{math}"
      ],
      "text/plain": [
       "[A == (1/10)]"
      ]
     },
     "metadata": {},
     "output_type": "display_data"
    }
   ],
   "source": [
    "A = var('A'); B = var('B'); C = var('C'); D = var('D');\n",
    "g = x* A * e^(10*x)\n",
    "print(\"y_1(x): \");\n",
    "show(g);\n",
    "g1 = diff(g, x, 1);\n",
    "g1 = g1.full_simplify();\n",
    "print(\"\\n y_1'(x):\");\n",
    "show(g1);\n",
    "g3 = diff(g, x, 3);\n",
    "g3 = g3.full_simplify();\n",
    "print(\"\\n y_1'''(x):\");\n",
    "show(g3)\n",
    "p = g3 - 100 * g1 == 20*e^(10 * x)\n",
    "p = p.full_simplify();   \n",
    "print(\"\\n y_1'''(x) - 100* y_1'(x) = 20*e^(10 * x):\");\n",
    "show(p)\n",
    "show(solve(p, A))"
   ]
  },
  {
   "cell_type": "markdown",
   "metadata": {},
   "source": [
    "$$ \\implies y_1 = \\frac{1}{10} \\cdot x \\cdot e^{10 \\cdot x} $$"
   ]
  },
  {
   "cell_type": "markdown",
   "metadata": {},
   "source": [
    "$$y^{'''} - 100 \\cdot y^{'} = 100 \\cdot \\cos(10 \\cdot x)\\\\\n",
    "\\implies y_2 = B \\cdot \\cos(10 \\cdot x) + C \\cdot \\sin(10 \\cdot x)$$"
   ]
  },
  {
   "cell_type": "code",
   "execution_count": 23,
   "metadata": {},
   "outputs": [
    {
     "name": "stdout",
     "output_type": "stream",
     "text": [
      "y_2(x): \n"
     ]
    },
    {
     "data": {
      "text/html": [
       "<html><script type=\"math/tex; mode=display\">\\newcommand{\\Bold}[1]{\\mathbf{#1}}B \\cos\\left(10 \\, x\\right) + C \\sin\\left(10 \\, x\\right)</script></html>"
      ],
      "text/latex": [
       "\\begin{math}\n",
       "\\newcommand{\\Bold}[1]{\\mathbf{#1}}B \\cos\\left(10 \\, x\\right) + C \\sin\\left(10 \\, x\\right)\n",
       "\\end{math}"
      ],
      "text/plain": [
       "B*cos(10*x) + C*sin(10*x)"
      ]
     },
     "metadata": {},
     "output_type": "display_data"
    },
    {
     "name": "stdout",
     "output_type": "stream",
     "text": [
      "\n",
      " y_2'(x):\n"
     ]
    },
    {
     "data": {
      "text/html": [
       "<html><script type=\"math/tex; mode=display\">\\newcommand{\\Bold}[1]{\\mathbf{#1}}10 \\, C \\cos\\left(10 \\, x\\right) - 10 \\, B \\sin\\left(10 \\, x\\right)</script></html>"
      ],
      "text/latex": [
       "\\begin{math}\n",
       "\\newcommand{\\Bold}[1]{\\mathbf{#1}}10 \\, C \\cos\\left(10 \\, x\\right) - 10 \\, B \\sin\\left(10 \\, x\\right)\n",
       "\\end{math}"
      ],
      "text/plain": [
       "10*C*cos(10*x) - 10*B*sin(10*x)"
      ]
     },
     "metadata": {},
     "output_type": "display_data"
    },
    {
     "name": "stdout",
     "output_type": "stream",
     "text": [
      "\n",
      " y_2'''(x):\n"
     ]
    },
    {
     "data": {
      "text/html": [
       "<html><script type=\"math/tex; mode=display\">\\newcommand{\\Bold}[1]{\\mathbf{#1}}-1000 \\, C \\cos\\left(10 \\, x\\right) + 1000 \\, B \\sin\\left(10 \\, x\\right)</script></html>"
      ],
      "text/latex": [
       "\\begin{math}\n",
       "\\newcommand{\\Bold}[1]{\\mathbf{#1}}-1000 \\, C \\cos\\left(10 \\, x\\right) + 1000 \\, B \\sin\\left(10 \\, x\\right)\n",
       "\\end{math}"
      ],
      "text/plain": [
       "-1000*C*cos(10*x) + 1000*B*sin(10*x)"
      ]
     },
     "metadata": {},
     "output_type": "display_data"
    },
    {
     "name": "stdout",
     "output_type": "stream",
     "text": [
      "\n",
      " y_2'''(x) - 100* y_1'(x) = 100*cos(10*x):\n"
     ]
    },
    {
     "data": {
      "text/html": [
       "<html><script type=\"math/tex; mode=display\">\\newcommand{\\Bold}[1]{\\mathbf{#1}}-2000 \\, C \\cos\\left(10 \\, x\\right) + 2000 \\, B \\sin\\left(10 \\, x\\right) = 100 \\, \\cos\\left(10 \\, x\\right)</script></html>"
      ],
      "text/latex": [
       "\\begin{math}\n",
       "\\newcommand{\\Bold}[1]{\\mathbf{#1}}-2000 \\, C \\cos\\left(10 \\, x\\right) + 2000 \\, B \\sin\\left(10 \\, x\\right) = 100 \\, \\cos\\left(10 \\, x\\right)\n",
       "\\end{math}"
      ],
      "text/plain": [
       "-2000*C*cos(10*x) + 2000*B*sin(10*x) == 100*cos(10*x)"
      ]
     },
     "metadata": {},
     "output_type": "display_data"
    },
    {
     "data": {
      "text/html": [
       "<html><script type=\"math/tex; mode=display\">\\newcommand{\\Bold}[1]{\\mathbf{#1}}\\left[\\left[B = 0, C = \\left(-\\frac{1}{20}\\right)\\right]\\right]</script></html>"
      ],
      "text/latex": [
       "\\begin{math}\n",
       "\\newcommand{\\Bold}[1]{\\mathbf{#1}}\\left[\\left[B = 0, C = \\left(-\\frac{1}{20}\\right)\\right]\\right]\n",
       "\\end{math}"
      ],
      "text/plain": [
       "[[B == 0, C == (-1/20)]]"
      ]
     },
     "metadata": {},
     "output_type": "display_data"
    }
   ],
   "source": [
    "A = var('A'); B = var('B'); C = var('C'); D = var('D');\n",
    "g = B * cos(10 * x) + C * sin(10 * x)\n",
    "print(\"y_2(x): \");\n",
    "show(g);\n",
    "g1 = diff(g, x, 1);\n",
    "#g1 = g1.full_simplify();\n",
    "print(\"\\n y_2'(x):\");\n",
    "show(g1);\n",
    "g3 = diff(g, x, 3);\n",
    "#g3 = g3.full_simplify();\n",
    "print(\"\\n y_2'''(x):\");\n",
    "show(g3)\n",
    "p = g3 - 100 * g1 == 100 * cos(10 * x)\n",
    "#p = p.full_simplify();   \n",
    "print(\"\\n y_2'''(x) - 100* y_1'(x) = 100*cos(10*x):\");\n",
    "show(p)\n",
    "show(solve([2000*B*sin(10*x) == 0, -2000*C*cos(10*x) == 100 * cos(10*x)], B, C))"
   ]
  },
  {
   "cell_type": "markdown",
   "metadata": {},
   "source": [
    "$$\\implies y_2 = -\\frac{1}{20} \\cdot \\sin(10 \\cdot x)$$"
   ]
  },
  {
   "cell_type": "markdown",
   "metadata": {},
   "source": [
    "$$\\implies y = y_c + y_1 + y_2 \\\\\n",
    "= C_1 + C_2\\cdot e^{-10\\cdot x} + C_3 \\cdot e^{10 \\cdot x} + \\frac{1}{10}\\cdot x \\cdot e^{10 \\cdot x} -\\frac{1}{20} \\cdot \\sin(10 \\cdot x) $$"
   ]
  },
  {
   "cell_type": "markdown",
   "metadata": {},
   "source": [
    "### Excercise 4 "
   ]
  },
  {
   "cell_type": "markdown",
   "metadata": {},
   "source": [
    "#### b.) "
   ]
  },
  {
   "cell_type": "markdown",
   "metadata": {},
   "source": [
    "$$ y^{''} - 2 \\cdot y = 2 \\cdot x \\cdot e^{x}\\cdot (\\cos(x) - \\sin(x))\\\\\n",
    "y^{''} - 2 \\cdot y = 0\\\\ \n",
    "\\implies \\lambda^2 - 2 = 0\\\\\n",
    "\\implies \\lambda_{1,2} = \\pm \\sqrt{2}\\\\\n",
    "\\implies y_c = C_1 \\cdot e^{\\sqrt{2} \\cdot x} + C_2 \\cdot e^{-\\sqrt{2} \\cdot x}$$"
   ]
  },
  {
   "cell_type": "markdown",
   "metadata": {},
   "source": [
    "$$2 \\cdot x \\cdot e^{x}\\cdot (\\cos{x} - \\sin{x})\\\\\n",
    "\\implies a = 1, ~~b=1, ~~n=1, ~~m = 1, ~~ k = \\max(n,m) = 1\\\\\n",
    "a \\pm b \\cdot i = 1 \\pm i \\text{ are not roots of the charact. eq.}\\\\\n",
    "\\implies y_p = e^{a \\cdot x} \\cdot (\\overline{P}_k(x) \\cdot \\cos(b \\cdot x) + \\overline{Q}_k(x)\\cdot \\sin(b \\cdot x))\\\\\n",
    "\\implies y_p = e^{x}\\cdot \\left((A\\cdot x + B)\\cdot \\cos(x) + (C \\cdot x + D)\\cdot \\sin(x)\\right)$$"
   ]
  },
  {
   "cell_type": "code",
   "execution_count": 28,
   "metadata": {},
   "outputs": [
    {
     "name": "stdout",
     "output_type": "stream",
     "text": [
      "y_p(x): \n"
     ]
    },
    {
     "data": {
      "text/html": [
       "<html><script type=\"math/tex; mode=display\">\\newcommand{\\Bold}[1]{\\mathbf{#1}}{\\left({\\left(A x + B\\right)} \\cos\\left(x\\right) + {\\left(C x + D\\right)} \\sin\\left(x\\right)\\right)} e^{x}</script></html>"
      ],
      "text/latex": [
       "\\begin{math}\n",
       "\\newcommand{\\Bold}[1]{\\mathbf{#1}}{\\left({\\left(A x + B\\right)} \\cos\\left(x\\right) + {\\left(C x + D\\right)} \\sin\\left(x\\right)\\right)} e^{x}\n",
       "\\end{math}"
      ],
      "text/plain": [
       "((A*x + B)*cos(x) + (C*x + D)*sin(x))*e^x"
      ]
     },
     "metadata": {},
     "output_type": "display_data"
    },
    {
     "name": "stdout",
     "output_type": "stream",
     "text": [
      "\n",
      " y_p'(x):\n"
     ]
    },
    {
     "data": {
      "text/html": [
       "<html><script type=\"math/tex; mode=display\">\\newcommand{\\Bold}[1]{\\mathbf{#1}}2 \\, {\\left(C x + A + C + D\\right)} \\cos\\left(x\\right) e^{x} - 2 \\, {\\left(A x + A + B - C\\right)} e^{x} \\sin\\left(x\\right)</script></html>"
      ],
      "text/latex": [
       "\\begin{math}\n",
       "\\newcommand{\\Bold}[1]{\\mathbf{#1}}2 \\, {\\left(C x + A + C + D\\right)} \\cos\\left(x\\right) e^{x} - 2 \\, {\\left(A x + A + B - C\\right)} e^{x} \\sin\\left(x\\right)\n",
       "\\end{math}"
      ],
      "text/plain": [
       "2*(C*x + A + C + D)*cos(x)*e^x - 2*(A*x + A + B - C)*e^x*sin(x)"
      ]
     },
     "metadata": {},
     "output_type": "display_data"
    },
    {
     "name": "stdout",
     "output_type": "stream",
     "text": [
      "\n",
      " y_p''(x) - 2 * y_p(x) = 2*x*e^(x)*(cos(x) - sin(x)):\n"
     ]
    },
    {
     "data": {
      "text/html": [
       "<html><script type=\"math/tex; mode=display\">\\newcommand{\\Bold}[1]{\\mathbf{#1}}-2 \\, {\\left({\\left(A - C\\right)} x - A + B - C - D\\right)} \\cos\\left(x\\right) e^{x} - 2 \\, {\\left({\\left(A + C\\right)} x + A + B - C + D\\right)} e^{x} \\sin\\left(x\\right) = 2 \\, x \\cos\\left(x\\right) e^{x} - 2 \\, x e^{x} \\sin\\left(x\\right)</script></html>"
      ],
      "text/latex": [
       "\\begin{math}\n",
       "\\newcommand{\\Bold}[1]{\\mathbf{#1}}-2 \\, {\\left({\\left(A - C\\right)} x - A + B - C - D\\right)} \\cos\\left(x\\right) e^{x} - 2 \\, {\\left({\\left(A + C\\right)} x + A + B - C + D\\right)} e^{x} \\sin\\left(x\\right) = 2 \\, x \\cos\\left(x\\right) e^{x} - 2 \\, x e^{x} \\sin\\left(x\\right)\n",
       "\\end{math}"
      ],
      "text/plain": [
       "-2*((A - C)*x - A + B - C - D)*cos(x)*e^x - 2*((A + C)*x + A + B - C + D)*e^x*sin(x) == 2*x*cos(x)*e^x - 2*x*e^x*sin(x)"
      ]
     },
     "metadata": {},
     "output_type": "display_data"
    },
    {
     "data": {
      "text/html": [
       "<html><script type=\"math/tex; mode=display\">\\newcommand{\\Bold}[1]{\\mathbf{#1}}\\left[\\left[A = 0, B = 1, C = 1, D = 0\\right]\\right]</script></html>"
      ],
      "text/latex": [
       "\\begin{math}\n",
       "\\newcommand{\\Bold}[1]{\\mathbf{#1}}\\left[\\left[A = 0, B = 1, C = 1, D = 0\\right]\\right]\n",
       "\\end{math}"
      ],
      "text/plain": [
       "[[A == 0, B == 1, C == 1, D == 0]]"
      ]
     },
     "metadata": {},
     "output_type": "display_data"
    }
   ],
   "source": [
    "A = var('A'); B = var('B'); C = var('C'); D = var('D');\n",
    "g = e^(x) * ((A * x + B)*cos(x) + (C * x + D)*sin(x))\n",
    "print(\"y_p(x): \");\n",
    "show(g);\n",
    "g2 = diff(g, x, 2);\n",
    "g2 = g2.full_simplify();\n",
    "print(\"\\n y_p''(x):\");\n",
    "show(g2)\n",
    "p = g2 - 2 * g == 2 * x * e^(x) * (cos(x) - sin(x))\n",
    "p = p.full_simplify();   \n",
    "print(\"\\n y_p''(x) - 2 * y_p(x) = 2*x*e^(x)*(cos(x) - sin(x)):\");\n",
    "show(p)\n",
    "show(solve([-2*(A-C) == 2, \n",
    "          -A+B-C-D == 0,\n",
    "          -2*(A+C) == -2,\n",
    "          A + B - C + D == 0], A, B, C, D))"
   ]
  },
  {
   "cell_type": "markdown",
   "metadata": {},
   "source": [
    "$$\\implies \n",
    "\\begin{cases} \n",
    "-2 \\cdot (A - C) &= 2\\\\\n",
    "-A+B-C-D &= 0\\\\\n",
    "-2 \\cdot(A + C) &= -1\\\\\n",
    "A + B - C + D &= 0\n",
    "\\end{cases}\n",
    "\\implies \n",
    "\\begin{cases} \n",
    "A &= 0\\\\\n",
    "B &= 1\\\\\n",
    "C &= 1\\\\\n",
    "D &= 0\n",
    "\\end{cases} \\\\\n",
    "\\implies y_p = e^{x}\\cdot \\left(\\cos(x) + x \\cdot \\sin(x)\\right)\\\\\n",
    "\\implies y = y_c + y_p\\\\\n",
    "= C_1 \\cdot e^{\\sqrt{2} \\cdot x} + C_2 \\cdot e^{-\\sqrt{2} \\cdot x} + e^{x}\\cdot \\left(\\cos(x) + x \\cdot \\sin(x)\\right)$$"
   ]
  },
  {
   "cell_type": "markdown",
   "metadata": {},
   "source": [
    "#### d.) "
   ]
  },
  {
   "cell_type": "markdown",
   "metadata": {},
   "source": [
    "$$y^{'''} + y^{''} = x^2 + 1 + 3 \\cdot x \\cdot e^{x}\\\\\n",
    "y^{'''} + y^{''} = 0\\\\\n",
    "\\implies \\lambda^3 + \\lambda^2 = 0\n",
    "\\implies \\lambda_{1,2} = 0, ~~ \\lambda_3 = -1\\\\\n",
    "\\implies y_c = (C_1 + C_2 \\cdot x)\\cdot e^{0 \\cdot x} + C_3 \\cdot e^{-x}\\\\\n",
    "= C_1 + C_2 \\cdot x + C_3\\cdot e^{-x}$$"
   ]
  },
  {
   "cell_type": "markdown",
   "metadata": {},
   "source": [
    "$$x^2 + 1\\\\\n",
    "\\implies a = 0, ~~ b= 0, ~~ n = 2, ~~m=0, ~~k = \\max(n, m)\\\\\n",
    "\\implies a+ b\\cdot i = 0 + 0 \\cdot i \\text{ are roots of the charact. eq.}\\\\\n",
    "\\implies y_1 = x^s \\cdot e^{a \\cdot x} \\cdot \\left(\\overline{P}_k(x) \\cdot \\cos(b \\cdot x) + \\overline{Q}_k(x) \\cdot \\sin(b \\cdot x)\\right)\\\\\n",
    "\\text{where }s = 2 ?\\\\\n",
    "\\implies y_1 = x^2 \\cdot (A\\cdot x^2 + B \\cdot x + C)$$"
   ]
  },
  {
   "cell_type": "code",
   "execution_count": 37,
   "metadata": {},
   "outputs": [
    {
     "name": "stdout",
     "output_type": "stream",
     "text": [
      "y_1(x): \n"
     ]
    },
    {
     "data": {
      "text/html": [
       "<html><script type=\"math/tex; mode=display\">\\newcommand{\\Bold}[1]{\\mathbf{#1}}{\\left(A x^{2} + B x + C\\right)} x^{2}</script></html>"
      ],
      "text/latex": [
       "\\begin{math}\n",
       "\\newcommand{\\Bold}[1]{\\mathbf{#1}}{\\left(A x^{2} + B x + C\\right)} x^{2}\n",
       "\\end{math}"
      ],
      "text/plain": [
       "(A*x^2 + B*x + C)*x^2"
      ]
     },
     "metadata": {},
     "output_type": "display_data"
    },
    {
     "name": "stdout",
     "output_type": "stream",
     "text": [
      "\n",
      " y_1''(x):\n"
     ]
    },
    {
     "data": {
      "text/html": [
       "<html><script type=\"math/tex; mode=display\">\\newcommand{\\Bold}[1]{\\mathbf{#1}}12 \\, A x^{2} + 6 \\, B x + 2 \\, C</script></html>"
      ],
      "text/latex": [
       "\\begin{math}\n",
       "\\newcommand{\\Bold}[1]{\\mathbf{#1}}12 \\, A x^{2} + 6 \\, B x + 2 \\, C\n",
       "\\end{math}"
      ],
      "text/plain": [
       "12*A*x^2 + 6*B*x + 2*C"
      ]
     },
     "metadata": {},
     "output_type": "display_data"
    },
    {
     "name": "stdout",
     "output_type": "stream",
     "text": [
      "\n",
      " y_1'''(x):\n"
     ]
    },
    {
     "data": {
      "text/html": [
       "<html><script type=\"math/tex; mode=display\">\\newcommand{\\Bold}[1]{\\mathbf{#1}}24 \\, A x + 6 \\, B</script></html>"
      ],
      "text/latex": [
       "\\begin{math}\n",
       "\\newcommand{\\Bold}[1]{\\mathbf{#1}}24 \\, A x + 6 \\, B\n",
       "\\end{math}"
      ],
      "text/plain": [
       "24*A*x + 6*B"
      ]
     },
     "metadata": {},
     "output_type": "display_data"
    },
    {
     "name": "stdout",
     "output_type": "stream",
     "text": [
      "\n",
      " y_1'''(x) + y_1''(x) = x^2 + 1:\n"
     ]
    },
    {
     "data": {
      "text/html": [
       "<html><script type=\"math/tex; mode=display\">\\newcommand{\\Bold}[1]{\\mathbf{#1}}12 \\, A x^{2} + 6 \\, {\\left(4 \\, A + B\\right)} x + 6 \\, B + 2 \\, C = x^{2} + 1</script></html>"
      ],
      "text/latex": [
       "\\begin{math}\n",
       "\\newcommand{\\Bold}[1]{\\mathbf{#1}}12 \\, A x^{2} + 6 \\, {\\left(4 \\, A + B\\right)} x + 6 \\, B + 2 \\, C = x^{2} + 1\n",
       "\\end{math}"
      ],
      "text/plain": [
       "12*A*x^2 + 6*(4*A + B)*x + 6*B + 2*C == x^2 + 1"
      ]
     },
     "metadata": {},
     "output_type": "display_data"
    },
    {
     "data": {
      "text/html": [
       "<html><script type=\"math/tex; mode=display\">\\newcommand{\\Bold}[1]{\\mathbf{#1}}\\left[\\left[A = \\left(\\frac{1}{12}\\right), B = \\left(-\\frac{1}{3}\\right), C = \\left(\\frac{3}{2}\\right)\\right]\\right]</script></html>"
      ],
      "text/latex": [
       "\\begin{math}\n",
       "\\newcommand{\\Bold}[1]{\\mathbf{#1}}\\left[\\left[A = \\left(\\frac{1}{12}\\right), B = \\left(-\\frac{1}{3}\\right), C = \\left(\\frac{3}{2}\\right)\\right]\\right]\n",
       "\\end{math}"
      ],
      "text/plain": [
       "[[A == (1/12), B == (-1/3), C == (3/2)]]"
      ]
     },
     "metadata": {},
     "output_type": "display_data"
    }
   ],
   "source": [
    "A = var('A'); B = var('B'); C = var('C'); D = var('D');\n",
    "g = x^2 * (A*x^2 + B*x + C)\n",
    "print(\"y_1(x): \");\n",
    "show(g);\n",
    "g2 = diff(g, x, 2);\n",
    "g2 = g2.full_simplify();\n",
    "print(\"\\n y_1''(x):\");\n",
    "show(g2)\n",
    "g3 = diff(g, x, 3);\n",
    "g3 = g3.full_simplify();\n",
    "print(\"\\n y_1'''(x):\");\n",
    "show(g3)\n",
    "p = g3 + g2 == x^2 + 1\n",
    "p = p.full_simplify();   \n",
    "print(\"\\n y_1'''(x) + y_1''(x) = x^2 + 1:\");\n",
    "show(p)\n",
    "show(solve([12*A == 1, 4*A + B == 0, 6*B + 2*C == 1], A, B, C))"
   ]
  },
  {
   "cell_type": "markdown",
   "metadata": {},
   "source": [
    "$$\\implies \n",
    "\\begin{cases} \n",
    "12 \\cdot A &= 1\\\\\n",
    "4 \\cdot A + B &= 0\\\\\n",
    "6 \\cdot B + 2 \\cdot C &= 1\n",
    "\\end{cases}\n",
    "\\implies \n",
    "\\begin{cases} \n",
    "A &= \\frac{1}{12}\\\\\n",
    "B &= -\\frac{1}{3}\\\\\n",
    "C &= \\frac{3}{2}\n",
    "\\end{cases} \\\\\n",
    "\\implies y_1 = x^2 \\cdot \\left(\\frac{1}{12}\\cdot x^2 - \\frac{1}{3} \\cdot x + \\frac{3}{2}\\right)$$"
   ]
  },
  {
   "cell_type": "markdown",
   "metadata": {},
   "source": [
    "$$3 \\cdot x \\cdot e^{x}\\\\\n",
    "\\implies a = 1, ~~ b= 0, ~~ n = 1, ~~ m= 0, ~~ k = \\max(n,m) = 1\\\\\n",
    "\\implies a \\pm b \\cdot i = 1 \\text{ is not a root of the caract. eq.}\\\\\n",
    "\\implies y_2 = e^{a \\cdot x} \\cdot \\left(\\overline{P}_k(x) \\cdot \\cos(b \\cdot x) + \\overline{Q}_k(x)\\cdot \\sin(b \\cdot x)\\right)\\\\\n",
    "\\implies y_2 = e^{x} \\cdot (A\\cdot x + B)$$"
   ]
  },
  {
   "cell_type": "code",
   "execution_count": 38,
   "metadata": {},
   "outputs": [
    {
     "name": "stdout",
     "output_type": "stream",
     "text": [
      "y_2(x): \n"
     ]
    },
    {
     "data": {
      "text/html": [
       "<html><script type=\"math/tex; mode=display\">\\newcommand{\\Bold}[1]{\\mathbf{#1}}{\\left(A x + B\\right)} e^{x}</script></html>"
      ],
      "text/latex": [
       "\\begin{math}\n",
       "\\newcommand{\\Bold}[1]{\\mathbf{#1}}{\\left(A x + B\\right)} e^{x}\n",
       "\\end{math}"
      ],
      "text/plain": [
       "(A*x + B)*e^x"
      ]
     },
     "metadata": {},
     "output_type": "display_data"
    },
    {
     "name": "stdout",
     "output_type": "stream",
     "text": [
      "\n",
      " y_2''(x):\n"
     ]
    },
    {
     "data": {
      "text/html": [
       "<html><script type=\"math/tex; mode=display\">\\newcommand{\\Bold}[1]{\\mathbf{#1}}{\\left(A x + 2 \\, A + B\\right)} e^{x}</script></html>"
      ],
      "text/latex": [
       "\\begin{math}\n",
       "\\newcommand{\\Bold}[1]{\\mathbf{#1}}{\\left(A x + 2 \\, A + B\\right)} e^{x}\n",
       "\\end{math}"
      ],
      "text/plain": [
       "(A*x + 2*A + B)*e^x"
      ]
     },
     "metadata": {},
     "output_type": "display_data"
    },
    {
     "name": "stdout",
     "output_type": "stream",
     "text": [
      "\n",
      " y_2'''(x):\n"
     ]
    },
    {
     "data": {
      "text/html": [
       "<html><script type=\"math/tex; mode=display\">\\newcommand{\\Bold}[1]{\\mathbf{#1}}{\\left(A x + 3 \\, A + B\\right)} e^{x}</script></html>"
      ],
      "text/latex": [
       "\\begin{math}\n",
       "\\newcommand{\\Bold}[1]{\\mathbf{#1}}{\\left(A x + 3 \\, A + B\\right)} e^{x}\n",
       "\\end{math}"
      ],
      "text/plain": [
       "(A*x + 3*A + B)*e^x"
      ]
     },
     "metadata": {},
     "output_type": "display_data"
    },
    {
     "name": "stdout",
     "output_type": "stream",
     "text": [
      "\n",
      " y_2'''(x) + y_2''(x) = 3 * x * e^x:\n"
     ]
    },
    {
     "data": {
      "text/html": [
       "<html><script type=\"math/tex; mode=display\">\\newcommand{\\Bold}[1]{\\mathbf{#1}}{\\left(2 \\, A x + 5 \\, A + 2 \\, B\\right)} e^{x} = 3 \\, x e^{x}</script></html>"
      ],
      "text/latex": [
       "\\begin{math}\n",
       "\\newcommand{\\Bold}[1]{\\mathbf{#1}}{\\left(2 \\, A x + 5 \\, A + 2 \\, B\\right)} e^{x} = 3 \\, x e^{x}\n",
       "\\end{math}"
      ],
      "text/plain": [
       "(2*A*x + 5*A + 2*B)*e^x == 3*x*e^x"
      ]
     },
     "metadata": {},
     "output_type": "display_data"
    },
    {
     "data": {
      "text/html": [
       "<html><script type=\"math/tex; mode=display\">\\newcommand{\\Bold}[1]{\\mathbf{#1}}\\left[\\left[A = \\left(\\frac{3}{2}\\right), B = \\left(-\\frac{15}{4}\\right)\\right]\\right]</script></html>"
      ],
      "text/latex": [
       "\\begin{math}\n",
       "\\newcommand{\\Bold}[1]{\\mathbf{#1}}\\left[\\left[A = \\left(\\frac{3}{2}\\right), B = \\left(-\\frac{15}{4}\\right)\\right]\\right]\n",
       "\\end{math}"
      ],
      "text/plain": [
       "[[A == (3/2), B == (-15/4)]]"
      ]
     },
     "metadata": {},
     "output_type": "display_data"
    }
   ],
   "source": [
    "A = var('A'); B = var('B'); C = var('C'); D = var('D');\n",
    "g = e^(x) * (A * x + B)\n",
    "print(\"y_2(x): \");\n",
    "show(g);\n",
    "g2 = diff(g, x, 2);\n",
    "g2 = g2.full_simplify();\n",
    "print(\"\\n y_2''(x):\");\n",
    "show(g2)\n",
    "g3 = diff(g, x, 3);\n",
    "g3 = g3.full_simplify();\n",
    "print(\"\\n y_2'''(x):\");\n",
    "show(g3)\n",
    "p = g3 + g2 == 3*x*e^x\n",
    "p = p.full_simplify();   \n",
    "print(\"\\n y_2'''(x) + y_2''(x) = 3 * x * e^x:\");\n",
    "show(p)\n",
    "show(solve([2* A == 3, 5*A + 2*B == 0], A, B))"
   ]
  },
  {
   "cell_type": "markdown",
   "metadata": {},
   "source": [
    "$$\\implies \n",
    "\\begin{cases} \n",
    "2 \\cdot A &= 3\\\\\n",
    "5 \\cdot A + 2 \\cdot B &= 0\n",
    "\\end{cases}\n",
    "\\implies \n",
    "\\begin{cases} \n",
    "A &= \\frac{3}{2}\\\\\n",
    "B &= -\\frac{15}{4}\n",
    "\\end{cases} \\\\\n",
    "\\implies y_2 = e^{x} \\cdot \\left(\\frac{3}{2}\\cdot x - \\frac{15}{4}\\right)$$"
   ]
  },
  {
   "cell_type": "markdown",
   "metadata": {},
   "source": [
    "$$\\implies y = y_c + y_1 + y_2\\\\\n",
    "= C_1 + C_2 \\cdot x + C_3\\cdot e^{-x} +  x^2 \\cdot \\left(\\frac{1}{12}\\cdot x^2 - \\frac{1}{3} \\cdot x + \\frac{3}{2}\\right) +  e^{x} \\cdot \\left(\\frac{3}{2}\\cdot x - \\frac{15}{4}\\right) $$"
   ]
  },
  {
   "cell_type": "markdown",
   "metadata": {},
   "source": [
    "#### Method of (variation?) of parameters "
   ]
  },
  {
   "cell_type": "markdown",
   "metadata": {},
   "source": [
    "$$y^{''} + y = \\tan(x), ~~y(0) = 0,~~ y\\left(\\frac{\\pi}{6}\\right) = 0\\\\\n",
    "\\implies \\lambda^2 + 1 = 0\\\\\n",
    "\\implies \\lambda_{1,2} = \\pm i\\\\\n",
    "\\implies y_c = C_1 \\cdot \\cos(x) + C_2 \\cdot \\sin(x)$$"
   ]
  },
  {
   "cell_type": "markdown",
   "metadata": {},
   "source": [
    "Since tan(x) is on the right hand side the method of undetermined coefficients does not work. Thus the method of (variation?) of parameters will be used."
   ]
  },
  {
   "cell_type": "markdown",
   "metadata": {},
   "source": [
    "$$y_p = u_1(x) \\cdot y_1(x) + u_2 \\cdot y_2(x)\\\\\n",
    "\\text{where } \n",
    "\\begin{cases}\n",
    "u_1^{'}(x) \\cdot y_1(x) + u_2^{'}(x) \\cdot y_2(x) &= 0\\\\\n",
    "u_1^{'}(x) \\cdot y_1^{'}(x) + u_2^{'}(x) \\cdot y_2^{'}(x) &= f(x)\n",
    "\\end{cases}\n",
    "$$"
   ]
  },
  {
   "cell_type": "markdown",
   "metadata": {},
   "source": [
    "$$ y_p = u_1(x) \\cdot \\cos(x) + u_2(x)\\cdot \\sin(x)\\\\\n",
    "\\text{where } \n",
    "\\begin{cases}\n",
    "u_1^{'}(x) \\cdot y_1(x) + u_2^{'}(x) \\cdot y_2(x) &= 0\\\\\n",
    "u_1^{'}(x) \\cdot y_1^{'}(x) + u_2^{'}(x) \\cdot y_2^{'}(x) &= \\tan(x)\n",
    "\\end{cases}$$"
   ]
  },
  {
   "cell_type": "code",
   "execution_count": 79,
   "metadata": {},
   "outputs": [
    {
     "data": {
      "text/html": [
       "<html><script type=\"math/tex; mode=display\">\\newcommand{\\Bold}[1]{\\mathbf{#1}}\\left[\\left[u_{1} = -\\frac{\\sin\\left(x\\right) \\tan\\left(x\\right)}{\\cos\\left(x\\right)^{2} + \\sin\\left(x\\right)^{2}}, u_{2} = \\frac{\\cos\\left(x\\right) \\tan\\left(x\\right)}{\\cos\\left(x\\right)^{2} + \\sin\\left(x\\right)^{2}}\\right]\\right]</script></html>"
      ],
      "text/latex": [
       "\\begin{math}\n",
       "\\newcommand{\\Bold}[1]{\\mathbf{#1}}\\left[\\left[u_{1} = -\\frac{\\sin\\left(x\\right) \\tan\\left(x\\right)}{\\cos\\left(x\\right)^{2} + \\sin\\left(x\\right)^{2}}, u_{2} = \\frac{\\cos\\left(x\\right) \\tan\\left(x\\right)}{\\cos\\left(x\\right)^{2} + \\sin\\left(x\\right)^{2}}\\right]\\right]\n",
       "\\end{math}"
      ],
      "text/plain": [
       "[[u_1 == -sin(x)*tan(x)/(cos(x)^2 + sin(x)^2), u_2 == cos(x)*tan(x)/(cos(x)^2 + sin(x)^2)]]"
      ]
     },
     "metadata": {},
     "output_type": "display_data"
    },
    {
     "data": {
      "text/html": [
       "<html><script type=\"math/tex; mode=display\">\\newcommand{\\Bold}[1]{\\mathbf{#1}}u_{1} = -\\frac{\\sin\\left(x\\right)^{2}}{\\cos\\left(x\\right)}</script></html>"
      ],
      "text/latex": [
       "\\begin{math}\n",
       "\\newcommand{\\Bold}[1]{\\mathbf{#1}}u_{1} = -\\frac{\\sin\\left(x\\right)^{2}}{\\cos\\left(x\\right)}\n",
       "\\end{math}"
      ],
      "text/plain": [
       "u_1 == -sin(x)^2/cos(x)"
      ]
     },
     "metadata": {},
     "output_type": "display_data"
    },
    {
     "data": {
      "text/html": [
       "<html><script type=\"math/tex; mode=display\">\\newcommand{\\Bold}[1]{\\mathbf{#1}}u_{2} = \\sin\\left(x\\right)</script></html>"
      ],
      "text/latex": [
       "\\begin{math}\n",
       "\\newcommand{\\Bold}[1]{\\mathbf{#1}}u_{2} = \\sin\\left(x\\right)\n",
       "\\end{math}"
      ],
      "text/plain": [
       "u_2 == sin(x)"
      ]
     },
     "metadata": {},
     "output_type": "display_data"
    },
    {
     "data": {
      "text/html": [
       "<html><script type=\"math/tex; mode=display\">\\newcommand{\\Bold}[1]{\\mathbf{#1}}u_{1} x = c_{26} - \\frac{1}{2} \\, \\log\\left(\\sin\\left(x\\right) + 1\\right) + \\frac{1}{2} \\, \\log\\left(\\sin\\left(x\\right) - 1\\right) + \\sin\\left(x\\right)</script></html>"
      ],
      "text/latex": [
       "\\begin{math}\n",
       "\\newcommand{\\Bold}[1]{\\mathbf{#1}}u_{1} x = c_{26} - \\frac{1}{2} \\, \\log\\left(\\sin\\left(x\\right) + 1\\right) + \\frac{1}{2} \\, \\log\\left(\\sin\\left(x\\right) - 1\\right) + \\sin\\left(x\\right)\n",
       "\\end{math}"
      ],
      "text/plain": [
       "u_1*x == c26 - 1/2*log(sin(x) + 1) + 1/2*log(sin(x) - 1) + sin(x)"
      ]
     },
     "metadata": {},
     "output_type": "display_data"
    },
    {
     "data": {
      "text/html": [
       "<html><script type=\"math/tex; mode=display\">\\newcommand{\\Bold}[1]{\\mathbf{#1}}u_{2} x = c_{27} - \\cos\\left(x\\right)</script></html>"
      ],
      "text/latex": [
       "\\begin{math}\n",
       "\\newcommand{\\Bold}[1]{\\mathbf{#1}}u_{2} x = c_{27} - \\cos\\left(x\\right)\n",
       "\\end{math}"
      ],
      "text/plain": [
       "u_2*x == c27 - cos(x)"
      ]
     },
     "metadata": {},
     "output_type": "display_data"
    }
   ],
   "source": [
    "u1, u2 = SR.var('u_1, u_2')\n",
    "y1 = cos(x); y2 = sin(x)\n",
    "f = tan(x)\n",
    "\n",
    "solution = solve([\n",
    "    u1 * y1 + u2 * y2 == 0,\n",
    "    u1 * diff(y1, x, 1) + u2 * diff(y2, x, 1) == f\n",
    "],u1, u2)\n",
    "show(solution)\n",
    "\n",
    "u1 = solution[0][0]\n",
    "show(u1.full_simplify())\n",
    "\n",
    "u2 = solution[0][1]\n",
    "show(u2.full_simplify())\n",
    "\n",
    "u1 = indefinite_integral(u1, x)\n",
    "show(u1.full_simplify())\n",
    "\n",
    "u2 = indefinite_integral(u2, x)\n",
    "show(u2.full_simplify())"
   ]
  },
  {
   "cell_type": "markdown",
   "metadata": {},
   "source": [
    "$$-\\frac{1}{2}\\cdot \\log(\\sin(x) + 1) + \\frac{1}{2} \\cdot \\log(\\sin(x) - 1) + \\sin(x)\\\\\n",
    "= \\sin(x) - \\ln\\left(\\tan\\left(\\frac{x}{2} + \\frac{\\pi}{4}\\right)\\right)$$"
   ]
  },
  {
   "cell_type": "markdown",
   "metadata": {},
   "source": [
    "$$\\implies y = y_c + y_p\\\\\n",
    "= y_c + u_1(x) \\cdot \\cos(x) + u_2(x)\\cdot \\sin(x)\\\\\n",
    "= C_1 \\cdot \\cos(x) + C_2 \\cdot \\sin(x) - \\cos(x)\\cdot\\left(\\ln\\left(\\tan\\left(\\frac{x}{2} + \\frac{\\pi}{4}\\right)\\right)\\right)\\\\\n",
    "\\text{where because of the boundary conditions: }\\\\\n",
    "\\begin{cases}\n",
    "C_1 \\cdot \\cos(0) + C_2 \\cdot \\sin(0) - \\cos(0) \\cdot \\ln\\left(\\tan\\left(\\frac{\\pi}{4}\\right)\\right) = 0\\\\\n",
    "C_1 \\cdot \\cos\\left(\\frac{\\pi}{6}\\right) + C_2 \\cdot \\sin\\left(\\frac{\\pi}{6}\\right) - \\cos\\left(\\frac{\\pi}{6}\\right) \\cdot \\ln\\left(\\tan\\left(\\frac{\\pi}{3}\\right)\\right) = 0\n",
    "\\end{cases}$$"
   ]
  },
  {
   "cell_type": "code",
   "execution_count": 80,
   "metadata": {},
   "outputs": [
    {
     "data": {
      "text/html": [
       "<html><script type=\"math/tex; mode=display\">\\newcommand{\\Bold}[1]{\\mathbf{#1}}\\left[\\left[c_{1} = 0, c_{2} = \\frac{1}{2} \\, \\sqrt{3} \\log\\left(3\\right)\\right]\\right]</script></html>"
      ],
      "text/latex": [
       "\\begin{math}\n",
       "\\newcommand{\\Bold}[1]{\\mathbf{#1}}\\left[\\left[c_{1} = 0, c_{2} = \\frac{1}{2} \\, \\sqrt{3} \\log\\left(3\\right)\\right]\\right]\n",
       "\\end{math}"
      ],
      "text/plain": [
       "[[c_1 == 0, c_2 == 1/2*sqrt(3)*log(3)]]"
      ]
     },
     "metadata": {},
     "output_type": "display_data"
    }
   ],
   "source": [
    "c1, c2 = var('c_1 c_2')\n",
    "show(solve([\n",
    "    c1 * cos(0) + c2 * sin(0) - cos(0)*ln(tan(pi/4)) == 0,\n",
    "    c1 * cos(pi/6) + c2 * sin(pi/6) - cos(pi/6)*ln(tan(pi/3)) == 0,\n",
    "], c1, c2))"
   ]
  },
  {
   "cell_type": "markdown",
   "metadata": {},
   "source": [
    "$$\\implies y = \\frac{\\sqrt{3}}{2}\\cdot \\log(3) \\cdot \\sin(x) - \\cos(x)\\cdot\\left(\\ln\\left(\\tan\\left(\\frac{x}{2} + \\frac{\\pi}{4}\\right)\\right)\\right)$$"
   ]
  },
  {
   "cell_type": "markdown",
   "metadata": {},
   "source": [
    "#### Homework "
   ]
  },
  {
   "cell_type": "markdown",
   "metadata": {},
   "source": [
    "$$ y^{''} - 2\\cdot y^{'} - 3 \\cdot y = e^{4 \\cdot x}, ~~ y(\\ln(2)) = 1, ~~y(2\\cdot \\ln(2)) = 1\\\\ \n",
    "y^{''} + y = \\frac{1}{\\cos(x)}, ~~ y(0) = 1, ~~ y^{'}(0) = 0\n",
    "$$"
   ]
  },
  {
   "cell_type": "markdown",
   "metadata": {},
   "source": [
    "### Excercise 5 "
   ]
  },
  {
   "cell_type": "markdown",
   "metadata": {},
   "source": [
    "#### Classification of partial differential equations"
   ]
  },
  {
   "cell_type": "markdown",
   "metadata": {},
   "source": [
    "$$\\text{linear second-order PDE:}\\\\ A(x,y) \\cdot \\frac{\\partial^2 u}{\\partial x^2} + B(x,y) \\cdot \\frac{\\partial^2 u}{\\partial x \\partial y} + C(x,y) \\cdot \\frac{\\partial^2 u}{\\partial y^2} + D(x,y) \\cdot \\frac{\\partial u}{\\partial x} + E(x,y) \\cdot \\frac{\\partial u}{\\partial y} + F(x,y) \\cdot u = 0\\\\\n",
    "\\begin{cases}\n",
    "B^2 - 4 \\cdot A \\cdot C > 0 & \\text{hyperbolic}\\\\\n",
    "B^2 - 4 \\cdot A \\cdot C = 0 & \\text{parabolic}\\\\\n",
    "B^2 - 4 \\cdot A \\cdot C < 0 & \\text{elliptic}\\\\\n",
    "\\end{cases}$$"
   ]
  },
  {
   "cell_type": "markdown",
   "metadata": {},
   "source": [
    "##### Example "
   ]
  },
  {
   "cell_type": "markdown",
   "metadata": {},
   "source": [
    "$$\\frac{\\partial^2 u}{\\partial x^2} + \\frac{\\partial^2 u}{\\partial x \\partial y} + \\frac{\\partial^2 u}{\\partial y^2}= 0\\\\\n",
    "\\implies A = 1, ~~ B = 1, ~~ C = 1\\\\\n",
    "\\implies B^2 - 4 \\cdot A \\cdot C < 1 \\text{ thus elliptic}$$"
   ]
  },
  {
   "cell_type": "markdown",
   "metadata": {},
   "source": [
    "$$\\frac{\\partial^2 u}{\\partial x^2} + y \\cdot \\frac{\\partial^2 u}{\\partial y^2} = 0\\\\\n",
    "\\implies A = 1, ~~ C = y\\\\\n",
    "\\implies B^2 - 4 \\cdot A \\cdot C = -4 \\cdot y\\\\\n",
    "\\implies \n",
    "\\begin{cases}\n",
    "y < 0 & \\text{hyperbolic}\\\\\n",
    "y = 0 & \\text{parabolic}\\\\\n",
    "y > 0 & \\text{elliptic}\n",
    "\\end{cases}$$"
   ]
  },
  {
   "cell_type": "markdown",
   "metadata": {},
   "source": [
    "#### Coordinate Transform "
   ]
  },
  {
   "cell_type": "markdown",
   "metadata": {},
   "source": [
    "Transform the following PDE to polat coordinates:\n",
    "$$\\Delta u = \\frac{\\partial^2 u}{\\partial x^2} + \\frac{\\partial^2 u}{\\partial y^2} = \\frac{x + y}{\\sqrt{x^2 + y^2}}\\\\\n",
    "\\begin{cases}\n",
    "x &= r \\cdot \\cos(\\varphi)\\\\\n",
    "y &= r \\cdot \\sin(\\varphi)\n",
    "\\end{cases} \\implies \n",
    "\\begin{cases}\n",
    "r &= \\sqrt{x^2 + y^2}\\\\\n",
    "\\varphi &= \\arctan\\left(\\frac{y}{x}\\right)\n",
    "\\end{cases}$$"
   ]
  },
  {
   "cell_type": "markdown",
   "metadata": {},
   "source": [
    "$$\n",
    "\\begin{cases}\n",
    "\\frac{\\partial u}{\\partial x} &= \\frac{\\partial u}{\\partial r} \\cdot \\frac{\\partial r}{\\partial x} + \\frac{\\partial u}{\\partial \\varphi} \\cdot \\frac{\\partial \\varphi}{\\partial x}\\\\\n",
    "\\frac{\\partial u}{\\partial y} &= \\frac{\\partial u}{\\partial r} \\cdot \\frac{\\partial r}{\\partial y} + \\frac{\\partial u}{\\partial \\varphi} \\cdot \\frac{\\partial \\varphi}{\\partial y}\n",
    "\\end{cases}$$"
   ]
  },
  {
   "cell_type": "code",
   "execution_count": null,
   "metadata": {},
   "outputs": [],
   "source": []
  }
 ],
 "metadata": {
  "kernelspec": {
   "display_name": "SageMath 9.2",
   "language": "sage",
   "name": "sagemath"
  },
  "language_info": {
   "codemirror_mode": {
    "name": "ipython",
    "version": 3
   },
   "file_extension": ".py",
   "mimetype": "text/x-python",
   "name": "python",
   "nbconvert_exporter": "python",
   "pygments_lexer": "ipython3",
   "version": "3.7.7"
  }
 },
 "nbformat": 4,
 "nbformat_minor": 4
}
